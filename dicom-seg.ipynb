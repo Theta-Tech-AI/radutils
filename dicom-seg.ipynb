{
 "cells": [
  {
   "cell_type": "markdown",
   "metadata": {},
   "source": [
    "# Setup"
   ]
  },
  {
   "cell_type": "markdown",
   "metadata": {},
   "source": [
    "## Imports"
   ]
  },
  {
   "cell_type": "code",
   "execution_count": null,
   "metadata": {},
   "outputs": [],
   "source": [
    "import pyplastimatch as pypla\n",
    "from monailabel.datastore.utils.convert import nifti_to_dicom_seg\n",
    "import nibabel as nib\n",
    "from glob import glob\n",
    "import numpy as np \n",
    "import pydicom\n",
    "import tempfile\n",
    "import pydicom\n",
    "import SimpleITK as sitk\n",
    "import os\n",
    "\n",
    "import logging\n",
    "logging.basicConfig(level=logging.DEBUG)"
   ]
  },
  {
   "cell_type": "markdown",
   "metadata": {},
   "source": [
    "## Config"
   ]
  },
  {
   "cell_type": "code",
   "execution_count": null,
   "metadata": {},
   "outputs": [],
   "source": [
    "INPUT_DIR  = '~/data/nifti'\n",
    "OUTPUT_DIR = './output'\n",
    "\n",
    "INPUT_SERIES        = os.path.expanduser(os.path.join(INPUT_DIR , 'sample_mri.nii.gz'))\n",
    "INPUT_SEGMENTATION  = os.path.expanduser(os.path.join(INPUT_DIR , 'sample_segmentation.nii.gz' ))\n",
    "OUTPUT_SERIES       = os.path.expanduser(os.path.join(OUTPUT_DIR, 'series/'    ))\n",
    "OUTPUT_SEGMENTATION = os.path.expanduser(os.path.join(OUTPUT_DIR, 'segmentation/seg.dcm'))"
   ]
  },
  {
   "cell_type": "markdown",
   "metadata": {},
   "source": [
    "# Conversion"
   ]
  },
  {
   "cell_type": "markdown",
   "metadata": {},
   "source": [
    "## Series"
   ]
  },
  {
   "cell_type": "code",
   "execution_count": null,
   "metadata": {},
   "outputs": [],
   "source": [
    "logging.info(f'🗑️ Deleting any existing files in {OUTPUT_SERIES}...')\n",
    "existing_files = glob(OUTPUT_SERIES + '/*')\n",
    "logging.debug(f'Found {len(existing_files)} existing files: {existing_files[:5]}...')\n",
    "for file_path in existing_files:\n",
    "    logging.debug(f'Deleting {file_path}...')\n",
    "    os.remove(file_path)\n",
    "logging.info(f'✅ Deleted {len(existing_files)} files from {OUTPUT_SERIES}.')"
   ]
  },
  {
   "cell_type": "code",
   "execution_count": null,
   "metadata": {},
   "outputs": [],
   "source": [
    "logging.info(f'🔄 Loading the series nifti file into memory...')\n",
    "input_series_nifti = nib.load(INPUT_SERIES)\n",
    "logging.info(f'🧠 Series nifti file loaded into memory.')\n",
    "\n",
    "logging.info('🔄 Saving the series to a temporary file...')\n",
    "with tempfile.NamedTemporaryFile(suffix='.nii.gz') as temp_series_file:\n",
    "    nib.save(input_series_nifti, temp_series_file.name)\n",
    "    logging.info(f'📁 Temporary series file created at: {temp_series_file.name}')\n",
    "\n",
    "    logging.info('🔄 Converting flipped series to DICOM with plastimatch...')\n",
    "    !plastimatch convert --input {temp_series_file.name} --output-dicom {OUTPUT_SERIES}\n",
    "\n",
    "logging.info(f'📂 Created files = {list(glob(OUTPUT_SERIES + \"/*\"))[:5]}\\n... ({len(glob(OUTPUT_SERIES + \"/*\"))} files in total)')"
   ]
  },
  {
   "cell_type": "markdown",
   "metadata": {},
   "source": [
    "## Segmentation"
   ]
  },
  {
   "cell_type": "code",
   "execution_count": null,
   "metadata": {},
   "outputs": [],
   "source": [
    "logging.info(f'📊 Input series: {INPUT_SERIES = }')\n",
    "logging.info(f'📊 Input segmentation: {INPUT_SEGMENTATION = }')\n",
    "\n",
    "logging.info('🔄 Loading the nifti file into memory...')\n",
    "input_segmentation_nifti = nib.load(INPUT_SEGMENTATION)\n",
    "logging.info(f'🧠 Nifti file loaded into memory.')\n",
    "\n",
    "logging.debug(f'{str(input_segmentation_nifti.header) = }')\n",
    "logging.debug(f'{input_segmentation_nifti.header.get_data_shape() = }')\n",
    "\n",
    "logging.info('🔄 Creating a temporary copy of the nifti file using nibabel...')\n",
    "with tempfile.NamedTemporaryFile(suffix='.nii.gz') as temp_nifti_file:\n",
    "    \n",
    "    logging.info(f'🔄 Processing segmentation data...')\n",
    "    internal_type = np.int16\n",
    "    segmentation_data = input_segmentation_nifti.get_fdata().astype(internal_type)\n",
    "    logging.debug(f'{segmentation_data.shape = }')\n",
    "    logging.debug(f'{segmentation_data.dtype = }')\n",
    "    \n",
    "    # Isolate label 2 and convert to binary format (0 or 1)\n",
    "    # Update the nifti file with the processed data\n",
    "    input_segmentation_nifti = nib.Nifti1Image(\n",
    "        segmentation_data,\n",
    "        input_segmentation_nifti.affine,\n",
    "        input_segmentation_nifti.header\n",
    "    )\n",
    "    logging.info('✅ Updated nifti file with binary segmentation data.')\n",
    "    \n",
    "    logging.info('🔄 Saving the nifti file to the temporary file...')\n",
    "    nib.save(input_segmentation_nifti, temp_nifti_file.name)\n",
    "    logging.info(f'📁 Temporary nifti file created at: {temp_nifti_file.name}')\n",
    "\n",
    "    logging.info('🔄 Converting nifti to DICOM...')\n",
    "    temp_segmentation_dicom_path = nifti_to_dicom_seg(\n",
    "        series_dir=OUTPUT_SERIES,\n",
    "        label=temp_nifti_file.name,\n",
    "        #label_info={0: {'name': SEGMENTATION_LABEL}},\n",
    "        label_info={},\n",
    "        use_itk=False,\n",
    "    )\n",
    "    logging.debug(f'📊 temp_segmentation_dicom_path: {temp_segmentation_dicom_path}')\n",
    "\n",
    "logging.info(f'📂 Loading DICOM SEG from {temp_segmentation_dicom_path}...')\n",
    "dcm_seg = pydicom.dcmread(temp_segmentation_dicom_path)\n",
    "logging.debug(f'📊 dcm_seg: {dcm_seg}')\n",
    "\n",
    "logging.info(f'🗑️ Deleting initial nifti to DICOM temporary file...')\n",
    "os.unlink(temp_segmentation_dicom_path)\n",
    "\n",
    "logging.info('🔍 Finding a sample DICOM series to get FrameOfReferenceUID...')\n",
    "dcm_series_sample = glob(OUTPUT_SERIES + '/*')[0]\n",
    "logging.info(f'📂 Found DICOM series: {dcm_series_sample}')\n",
    "logging.debug(f'📊 dcm_series_sample: {dcm_series_sample}')\n",
    "\n",
    "logging.info('📝 Copying FrameOfReferenceUID from DICOM series to DICOM SEG...')\n",
    "dcm_seg.FrameOfReferenceUID = pydicom.dcmread(dcm_series_sample).FrameOfReferenceUID\n",
    "logging.debug(f'📊 dcm_seg.FrameOfReferenceUID: {dcm_seg.FrameOfReferenceUID}')\n",
    "\n",
    "logging.info('💾 Saving the final DICOM SEG...')\n",
    "os.makedirs(os.path.dirname(OUTPUT_SEGMENTATION))\n",
    "dcm_seg.save_as(OUTPUT_SEGMENTATION)\n",
    "logging.info(f'📊 Saved to: {OUTPUT_SEGMENTATION}')\n",
    "\n",
    "logging.info('✅ Done.')"
   ]
  }
 ],
 "metadata": {
  "kernelspec": {
   "display_name": ".venv",
   "language": "python",
   "name": "python3"
  },
  "language_info": {
   "codemirror_mode": {
    "name": "ipython",
    "version": 3
   },
   "file_extension": ".py",
   "mimetype": "text/x-python",
   "name": "python",
   "nbconvert_exporter": "python",
   "pygments_lexer": "ipython3",
   "version": "3.11.9"
  }
 },
 "nbformat": 4,
 "nbformat_minor": 2
}
